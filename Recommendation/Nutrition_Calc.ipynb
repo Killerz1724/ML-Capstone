{
 "cells": [
  {
   "cell_type": "code",
   "execution_count": 1,
   "metadata": {},
   "outputs": [],
   "source": [
    "import random\n",
    "import pandas as pd\n",
    "import numpy as np"
   ]
  },
  {
   "cell_type": "code",
   "execution_count": 2,
   "metadata": {},
   "outputs": [],
   "source": [
    "#Nutrition Calculation\n",
    "def nutrition_calories_calculation(age, height, weight, gender):\n",
    "    \n",
    "    #Daily Calories Needed\n",
    "    if gender == 'male' :\n",
    "        energy = round(66 + (13.7*weight) + (5*height) - (6.8*age), 2)\n",
    "    else :\n",
    "        energy = round(655 + (9.6*weight) + (1.8*height) - (4.7*age), 2)\n",
    "    \n",
    "    #Nutrient Calculation(Gram)\n",
    "    protein = round(((15/100)*energy)/4, 2)\n",
    "    carbo = round(((60/100)*energy)/4,2)\n",
    "    fat = round(((15/100)*energy)/9, 2)\n",
    "    fiber = age + 10\n",
    "    \n",
    "    return energy, protein, carbo, fat, fiber\n",
    "\n",
    "def each_meal_nutrition(energy, protein, carbo, fat, fiber):\n",
    "    \n",
    "    energy = energy/3\n",
    "    protein = protein/3\n",
    "    carbo = carbo/3\n",
    "    fat = fat/3\n",
    "    fiber = fiber/3\n",
    "    \n",
    "    return energy, protein, carbo, fat, fiber\n",
    "\n",
    "def append_nutrition(user, nutrition):\n",
    "    \n",
    "    user.append(nutrition)\n"
   ]
  },
  {
   "cell_type": "code",
   "execution_count": 3,
   "metadata": {},
   "outputs": [
    {
     "name": "stdout",
     "output_type": "stream",
     "text": [
      "No duplicate values\n"
     ]
    }
   ],
   "source": [
    "#Random Number for UID User Generator\n",
    "import uuid\n",
    "import random\n",
    "\n",
    "number_of_user = 516\n",
    "uid = []\n",
    "for i in range(number_of_user):\n",
    "    # Generate a random UUID as the user ID\n",
    "    user_id = uuid.uuid4()\n",
    "\n",
    "    # Convert the UUID to a string if necessary\n",
    "    user_id_str = str(user_id)\n",
    "\n",
    "    user_id_str=user_id_str[:7]\n",
    "    uid.append(user_id_str)\n",
    "\n",
    "# Check if there are duplicate values\n",
    "if len(uid) != len(set(uid)):\n",
    "    print(\"Duplicate values found\")\n",
    "else:\n",
    "    print(\"No duplicate values\")"
   ]
  },
  {
   "cell_type": "code",
   "execution_count": 4,
   "metadata": {},
   "outputs": [],
   "source": [
    "user_data = {}\n",
    "user_energy = []\n",
    "user_protein = []\n",
    "user_carbo = []\n",
    "user_fat = []\n",
    "user_fiber = []\n",
    "\n",
    "#Calculation Function\n",
    "userdatasamount = 516\n",
    "for i in range(userdatasamount) :\n",
    "    #User Input\n",
    "    age = random.randint(5, 12)\n",
    "    height = round(random.uniform(107.9, 149.8),2)\n",
    "    weight = round(random. uniform(17.92, 41.5))\n",
    "    gender_list = ['male', 'female']\n",
    "    gender = random.choice(gender_list)\n",
    "    energy, protein, carbo, fat, fiber = nutrition_calories_calculation(age, height, weight, gender)\n",
    "    # Add multiple values to the dictionary\n",
    "    \n",
    "    user_energy.append(energy)\n",
    "    user_protein.append(protein)\n",
    "    user_carbo.append(carbo)\n",
    "    user_fat.append(fat)\n",
    "    user_fiber.append(fiber)\n",
    "\n",
    "user_data['user'] = uid\n",
    "user_data['energy'] = user_energy\n",
    "user_data['protein'] = user_protein\n",
    "user_data['carbo'] = user_carbo\n",
    "user_data['fat'] = user_fat\n",
    "user_data['fiber'] = user_fiber"
   ]
  },
  {
   "cell_type": "code",
   "execution_count": null,
   "metadata": {},
   "outputs": [],
   "source": [
    "df = pd.DataFrame(user_data)\n",
    "\n",
    "csv_file_path = \"./ML-Capstone-main/user_data.csv\"\n",
    "df.to_csv(csv_file_path, index=False)\n"
   ]
  }
 ],
 "metadata": {
  "kernelspec": {
   "display_name": "Python 3",
   "language": "python",
   "name": "python3"
  },
  "language_info": {
   "codemirror_mode": {
    "name": "ipython",
    "version": 3
   },
   "file_extension": ".py",
   "mimetype": "text/x-python",
   "name": "python",
   "nbconvert_exporter": "python",
   "pygments_lexer": "ipython3",
   "version": "3.10.11"
  },
  "orig_nbformat": 4,
  "vscode": {
   "interpreter": {
    "hash": "843d07e54fe68220d2b615c0555cd5faca08e2c6c387ade2502bb0d1f11b2654"
   }
  }
 },
 "nbformat": 4,
 "nbformat_minor": 2
}
